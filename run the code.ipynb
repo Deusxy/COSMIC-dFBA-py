{
 "cells": [
  {
   "cell_type": "code",
   "execution_count": 1,
   "metadata": {},
   "outputs": [
    {
     "name": "stdout",
     "output_type": "stream",
     "text": [
      "Collecting cobra\n",
      "  Downloading cobra-0.29.1-py2.py3-none-any.whl.metadata (9.3 kB)\n",
      "Requirement already satisfied: numpy in /home/codespace/.local/lib/python3.12/site-packages (2.2.0)\n",
      "Requirement already satisfied: scipy in /home/codespace/.local/lib/python3.12/site-packages (1.14.1)\n",
      "Requirement already satisfied: tqdm in /usr/local/python/3.12.1/lib/python3.12/site-packages (4.67.1)\n",
      "Collecting appdirs~=1.4 (from cobra)\n",
      "  Downloading appdirs-1.4.4-py2.py3-none-any.whl.metadata (9.0 kB)\n",
      "Collecting depinfo~=2.2 (from cobra)\n",
      "  Downloading depinfo-2.2.0-py3-none-any.whl.metadata (3.8 kB)\n",
      "Collecting diskcache~=5.0 (from cobra)\n",
      "  Downloading diskcache-5.6.3-py3-none-any.whl.metadata (20 kB)\n",
      "Collecting future (from cobra)\n",
      "  Downloading future-1.0.0-py3-none-any.whl.metadata (4.0 kB)\n",
      "Requirement already satisfied: httpx~=0.24 in /home/codespace/.local/lib/python3.12/site-packages (from cobra) (0.28.1)\n",
      "Collecting importlib-resources (from cobra)\n",
      "  Downloading importlib_resources-6.5.2-py3-none-any.whl.metadata (3.9 kB)\n",
      "Collecting optlang~=1.8 (from cobra)\n",
      "  Downloading optlang-1.8.3-py2.py3-none-any.whl.metadata (8.2 kB)\n",
      "Requirement already satisfied: pandas<3.0,>=1.0 in /home/codespace/.local/lib/python3.12/site-packages (from cobra) (2.2.3)\n",
      "Collecting pydantic>=1.6 (from cobra)\n",
      "  Downloading pydantic-2.10.6-py3-none-any.whl.metadata (30 kB)\n",
      "Collecting python-libsbml~=5.19 (from cobra)\n",
      "  Downloading python_libsbml-5.20.4-cp312-cp312-manylinux_2_17_x86_64.manylinux2014_x86_64.whl.metadata (532 bytes)\n",
      "Collecting rich>=8.0 (from cobra)\n",
      "  Downloading rich-13.9.4-py3-none-any.whl.metadata (18 kB)\n",
      "Collecting ruamel.yaml~=0.16 (from cobra)\n",
      "  Downloading ruamel.yaml-0.18.10-py3-none-any.whl.metadata (23 kB)\n",
      "Collecting swiglpk (from cobra)\n",
      "  Downloading swiglpk-5.0.12-cp312-cp312-manylinux_2_17_x86_64.manylinux2014_x86_64.whl.metadata (5.5 kB)\n",
      "Requirement already satisfied: anyio in /home/codespace/.local/lib/python3.12/site-packages (from httpx~=0.24->cobra) (4.7.0)\n",
      "Requirement already satisfied: certifi in /home/codespace/.local/lib/python3.12/site-packages (from httpx~=0.24->cobra) (2024.8.30)\n",
      "Requirement already satisfied: httpcore==1.* in /home/codespace/.local/lib/python3.12/site-packages (from httpx~=0.24->cobra) (1.0.7)\n",
      "Requirement already satisfied: idna in /home/codespace/.local/lib/python3.12/site-packages (from httpx~=0.24->cobra) (3.10)\n",
      "Requirement already satisfied: h11<0.15,>=0.13 in /home/codespace/.local/lib/python3.12/site-packages (from httpcore==1.*->httpx~=0.24->cobra) (0.14.0)\n",
      "Requirement already satisfied: sympy>=1.12.0 in /home/codespace/.local/lib/python3.12/site-packages (from optlang~=1.8->cobra) (1.13.1)\n",
      "Requirement already satisfied: python-dateutil>=2.8.2 in /home/codespace/.local/lib/python3.12/site-packages (from pandas<3.0,>=1.0->cobra) (2.9.0.post0)\n",
      "Requirement already satisfied: pytz>=2020.1 in /home/codespace/.local/lib/python3.12/site-packages (from pandas<3.0,>=1.0->cobra) (2024.2)\n",
      "Requirement already satisfied: tzdata>=2022.7 in /home/codespace/.local/lib/python3.12/site-packages (from pandas<3.0,>=1.0->cobra) (2024.2)\n",
      "Collecting annotated-types>=0.6.0 (from pydantic>=1.6->cobra)\n",
      "  Downloading annotated_types-0.7.0-py3-none-any.whl.metadata (15 kB)\n",
      "Collecting pydantic-core==2.27.2 (from pydantic>=1.6->cobra)\n",
      "  Downloading pydantic_core-2.27.2-cp312-cp312-manylinux_2_17_x86_64.manylinux2014_x86_64.whl.metadata (6.6 kB)\n",
      "Requirement already satisfied: typing-extensions>=4.12.2 in /home/codespace/.local/lib/python3.12/site-packages (from pydantic>=1.6->cobra) (4.12.2)\n",
      "Collecting markdown-it-py>=2.2.0 (from rich>=8.0->cobra)\n",
      "  Downloading markdown_it_py-3.0.0-py3-none-any.whl.metadata (6.9 kB)\n",
      "Requirement already satisfied: pygments<3.0.0,>=2.13.0 in /home/codespace/.local/lib/python3.12/site-packages (from rich>=8.0->cobra) (2.18.0)\n",
      "Collecting ruamel.yaml.clib>=0.2.7 (from ruamel.yaml~=0.16->cobra)\n",
      "  Downloading ruamel.yaml.clib-0.2.12-cp312-cp312-manylinux_2_17_x86_64.manylinux2014_x86_64.whl.metadata (2.7 kB)\n",
      "Collecting mdurl~=0.1 (from markdown-it-py>=2.2.0->rich>=8.0->cobra)\n",
      "  Downloading mdurl-0.1.2-py3-none-any.whl.metadata (1.6 kB)\n",
      "Requirement already satisfied: six>=1.5 in /home/codespace/.local/lib/python3.12/site-packages (from python-dateutil>=2.8.2->pandas<3.0,>=1.0->cobra) (1.17.0)\n",
      "Requirement already satisfied: mpmath<1.4,>=1.1.0 in /home/codespace/.local/lib/python3.12/site-packages (from sympy>=1.12.0->optlang~=1.8->cobra) (1.3.0)\n",
      "Requirement already satisfied: sniffio>=1.1 in /home/codespace/.local/lib/python3.12/site-packages (from anyio->httpx~=0.24->cobra) (1.3.1)\n",
      "Downloading cobra-0.29.1-py2.py3-none-any.whl (1.2 MB)\n",
      "\u001b[2K   \u001b[90m━━━━━━━━━━━━━━━━━━━━━━━━━━━━━━━━━━━━━━━━\u001b[0m \u001b[32m1.2/1.2 MB\u001b[0m \u001b[31m53.4 MB/s\u001b[0m eta \u001b[36m0:00:00\u001b[0m\n",
      "\u001b[?25hDownloading appdirs-1.4.4-py2.py3-none-any.whl (9.6 kB)\n",
      "Downloading depinfo-2.2.0-py3-none-any.whl (24 kB)\n",
      "Downloading diskcache-5.6.3-py3-none-any.whl (45 kB)\n",
      "Downloading optlang-1.8.3-py2.py3-none-any.whl (141 kB)\n",
      "Downloading pydantic-2.10.6-py3-none-any.whl (431 kB)\n",
      "Downloading pydantic_core-2.27.2-cp312-cp312-manylinux_2_17_x86_64.manylinux2014_x86_64.whl (2.0 MB)\n",
      "\u001b[2K   \u001b[90m━━━━━━━━━━━━━━━━━━━━━━━━━━━━━━━━━━━━━━━━\u001b[0m \u001b[32m2.0/2.0 MB\u001b[0m \u001b[31m73.2 MB/s\u001b[0m eta \u001b[36m0:00:00\u001b[0m\n",
      "\u001b[?25hDownloading python_libsbml-5.20.4-cp312-cp312-manylinux_2_17_x86_64.manylinux2014_x86_64.whl (8.0 MB)\n",
      "\u001b[2K   \u001b[90m━━━━━━━━━━━━━━━━━━━━━━━━━━━━━━━━━━━━━━━━\u001b[0m \u001b[32m8.0/8.0 MB\u001b[0m \u001b[31m9.8 MB/s\u001b[0m eta \u001b[36m0:00:00\u001b[0mta \u001b[36m0:00:01\u001b[0m\n",
      "\u001b[?25hDownloading rich-13.9.4-py3-none-any.whl (242 kB)\n",
      "Downloading ruamel.yaml-0.18.10-py3-none-any.whl (117 kB)\n",
      "Downloading swiglpk-5.0.12-cp312-cp312-manylinux_2_17_x86_64.manylinux2014_x86_64.whl (2.3 MB)\n",
      "\u001b[2K   \u001b[90m━━━━━━━━━━━━━━━━━━━━━━━━━━━━━━━━━━━━━━━━\u001b[0m \u001b[32m2.3/2.3 MB\u001b[0m \u001b[31m17.1 MB/s\u001b[0m eta \u001b[36m0:00:00\u001b[0m\n",
      "\u001b[?25hDownloading future-1.0.0-py3-none-any.whl (491 kB)\n",
      "Downloading importlib_resources-6.5.2-py3-none-any.whl (37 kB)\n",
      "Downloading annotated_types-0.7.0-py3-none-any.whl (13 kB)\n",
      "Downloading markdown_it_py-3.0.0-py3-none-any.whl (87 kB)\n",
      "Downloading ruamel.yaml.clib-0.2.12-cp312-cp312-manylinux_2_17_x86_64.manylinux2014_x86_64.whl (754 kB)\n",
      "\u001b[2K   \u001b[90m━━━━━━━━━━━━━━━━━━━━━━━━━━━━━━━━━━━━━━━━\u001b[0m \u001b[32m754.1/754.1 kB\u001b[0m \u001b[31m42.7 MB/s\u001b[0m eta \u001b[36m0:00:00\u001b[0m\n",
      "\u001b[?25hDownloading mdurl-0.1.2-py3-none-any.whl (10.0 kB)\n",
      "Installing collected packages: swiglpk, python-libsbml, appdirs, ruamel.yaml.clib, pydantic-core, mdurl, importlib-resources, future, diskcache, depinfo, annotated-types, ruamel.yaml, pydantic, optlang, markdown-it-py, rich, cobra\n",
      "\u001b[33m  WARNING: The scripts futurize and pasteurize are installed in '/usr/local/python/3.12.1/bin' which is not on PATH.\n",
      "  Consider adding this directory to PATH or, if you prefer to suppress this warning, use --no-warn-script-location.\u001b[0m\u001b[33m\n",
      "\u001b[0m\u001b[33m  WARNING: The script depinfo is installed in '/usr/local/python/3.12.1/bin' which is not on PATH.\n",
      "  Consider adding this directory to PATH or, if you prefer to suppress this warning, use --no-warn-script-location.\u001b[0m\u001b[33m\n",
      "\u001b[0m\u001b[33m  WARNING: The script markdown-it is installed in '/usr/local/python/3.12.1/bin' which is not on PATH.\n",
      "  Consider adding this directory to PATH or, if you prefer to suppress this warning, use --no-warn-script-location.\u001b[0m\u001b[33m\n",
      "\u001b[0mSuccessfully installed annotated-types-0.7.0 appdirs-1.4.4 cobra-0.29.1 depinfo-2.2.0 diskcache-5.6.3 future-1.0.0 importlib-resources-6.5.2 markdown-it-py-3.0.0 mdurl-0.1.2 optlang-1.8.3 pydantic-2.10.6 pydantic-core-2.27.2 python-libsbml-5.20.4 rich-13.9.4 ruamel.yaml-0.18.10 ruamel.yaml.clib-0.2.12 swiglpk-5.0.12\n",
      "Note: you may need to restart the kernel to use updated packages.\n"
     ]
    }
   ],
   "source": [
    "from tqdm import tqdm\n",
    "import COSMIC_dFBA\n",
    "import cobra\n",
    "\n",
    "# Load model\n",
    "model = cobra.io.load_model(\"iCHOv1\")  # Load from BiGG"
   ]
  },
  {
   "cell_type": "code",
   "execution_count": 5,
   "metadata": {},
   "outputs": [],
   "source": [
    "# Example values for fix_flx, fix_comp, and notes\n",
    "fix_flx = []  # If you have flux constraints, provide them here\n",
    "fix_comp = []  # If you have component constraints, provide them here\n",
    "notes = \"Simulation of COSMIC-dFBA with adjusted parameters\"\n",
    "\n",
    "\n",
    "# Define simulation time range\n",
    "time_range = [0, 10]  # Start and end times (e.g., in hours)\n"
   ]
  },
  {
   "cell_type": "code",
   "execution_count": 12,
   "metadata": {},
   "outputs": [],
   "source": [
    "dFBA_data = {\n",
    "    \"initial_concentrations\": [4.5, 0.0, 2.0, 0.5] + [0.5] * 10,  # Example for Glucose, Lactate, Glutamine, Glutamate, and Other Amino Acids\n",
    "    \"component_names\": [\"glucose\", \"lactate\", \"glutamine\", \"glutamate\"] + [\"other_amino_acids\"] * 10,\n",
    "    \"components\": [\"EX_glc__D_e\", \"EX_lac__D_e\", \"EX_gln__L_e\", \"EX_glu__L_e\"] + [\"EX_aa_e\"],\n",
    "    \"Perfusion\": {\n",
    "        \"components\": [\"glucose\", \"oxygen\", \"lactate\", \"glutamine\", \"glutamate\"],  # Components for perfusion\n",
    "        \"concentrations\": [0.5, 0.2, 0.0, 0.5, 0.5]  # Corresponding concentrations for each component\n",
    "    },\n",
    "    \"kinetic\": {\n",
    "        \"components\": [\"glucose\", \"glutamine\", \"oxygen\"],\n",
    "        \"Vm_growth\": [10.0, 8.0, 15.0],  # Growth rate parameters\n",
    "        \"Km\": [0.05, 0.1, 0.02],  # Michaelis-Menten constants\n",
    "        \"Vm_prod\": [8.0, 0.0, 0.0]  # Production rate parameters (example)\n",
    "    },\n",
    "    \"Objectives\": {\n",
    "        \"priority_growth\": [\"BIOMASS_Ec_iJO1366_core_53p95M\"],\n",
    "        \"c_growth\": [1.0],\n",
    "        \"priority_prod\": [\"EX_antibody_production\"],  # Example for production\n",
    "        \"c_prod\": [1.0]\n",
    "    },\n",
    "    \"Phase_classification\": {\n",
    "        \"components\": [\"glucose\", \"lactate\", \"glutamine\", \"glutamate\"],  # Components for phase classification\n",
    "        \"Beta\": [0.5, 0.3, 0.4, 0.2],  # Example Beta values\n",
    "        \"Bias\": 1.0,\n",
    "        \"scaling\": 1.0,\n",
    "        \"log_coeff\": [1.0, 1.0, 1.0, 1.0]\n",
    "    },\n",
    "    \"Condition\": \"Batch Culture\"\n",
    "}\n"
   ]
  },
  {
   "cell_type": "code",
   "execution_count": 13,
   "metadata": {},
   "outputs": [
    {
     "ename": "ValueError",
     "evalue": "'other_amino_acids' is not in list",
     "output_type": "error",
     "traceback": [
      "\u001b[0;31m---------------------------------------------------------------------------\u001b[0m",
      "\u001b[0;31mValueError\u001b[0m                                Traceback (most recent call last)",
      "Cell \u001b[0;32mIn[13], line 2\u001b[0m\n\u001b[1;32m      1\u001b[0m \u001b[38;5;66;03m# Call cosmic_dfba with all necessary arguments\u001b[39;00m\n\u001b[0;32m----> 2\u001b[0m simulation_result \u001b[38;5;241m=\u001b[39m \u001b[43mCOSMIC_dFBA\u001b[49m\u001b[38;5;241;43m.\u001b[39;49m\u001b[43mcosmic_dfba\u001b[49m\u001b[43m(\u001b[49m\u001b[43mmodel\u001b[49m\u001b[43m,\u001b[49m\u001b[43m \u001b[49m\u001b[43mtime_range\u001b[49m\u001b[43m,\u001b[49m\u001b[43m \u001b[49m\u001b[43mdFBA_data\u001b[49m\u001b[43m,\u001b[49m\u001b[43m \u001b[49m\u001b[43mfix_flx\u001b[49m\u001b[43m,\u001b[49m\u001b[43m \u001b[49m\u001b[43mfix_comp\u001b[49m\u001b[43m,\u001b[49m\u001b[43m \u001b[49m\u001b[43mnotes\u001b[49m\u001b[43m)\u001b[49m\n",
      "File \u001b[0;32m/workspaces/COSMIC-dFBA-py/COSMIC_dFBA.py:92\u001b[0m, in \u001b[0;36mcosmic_dfba\u001b[0;34m(model, time_range, dfba_data, fix_flx, fix_comp, notes)\u001b[0m\n\u001b[1;32m     89\u001b[0m cmp_names \u001b[38;5;241m=\u001b[39m dfba_data[\u001b[38;5;124m'\u001b[39m\u001b[38;5;124mcomponent_names\u001b[39m\u001b[38;5;124m'\u001b[39m]\n\u001b[1;32m     90\u001b[0m components \u001b[38;5;241m=\u001b[39m dfba_data[\u001b[38;5;124m'\u001b[39m\u001b[38;5;124mcomponents\u001b[39m\u001b[38;5;124m'\u001b[39m]\n\u001b[0;32m---> 92\u001b[0m c_in \u001b[38;5;241m=\u001b[39m np\u001b[38;5;241m.\u001b[39marray([dfba_data[\u001b[38;5;124m'\u001b[39m\u001b[38;5;124mPerfusion\u001b[39m\u001b[38;5;124m'\u001b[39m][\u001b[38;5;124m'\u001b[39m\u001b[38;5;124mconcentrations\u001b[39m\u001b[38;5;124m'\u001b[39m][\u001b[43mdfba_data\u001b[49m\u001b[43m[\u001b[49m\u001b[38;5;124;43m'\u001b[39;49m\u001b[38;5;124;43mPerfusion\u001b[39;49m\u001b[38;5;124;43m'\u001b[39;49m\u001b[43m]\u001b[49m\u001b[43m[\u001b[49m\u001b[38;5;124;43m'\u001b[39;49m\u001b[38;5;124;43mcomponents\u001b[39;49m\u001b[38;5;124;43m'\u001b[39;49m\u001b[43m]\u001b[49m\u001b[38;5;241;43m.\u001b[39;49m\u001b[43mindex\u001b[49m\u001b[43m(\u001b[49m\u001b[43mcmp\u001b[49m\u001b[43m)\u001b[49m] \u001b[38;5;28;01mfor\u001b[39;00m cmp \u001b[38;5;129;01min\u001b[39;00m cmp_names])\n\u001b[1;32m     94\u001b[0m kinetic_comps \u001b[38;5;241m=\u001b[39m dfba_data[\u001b[38;5;124m'\u001b[39m\u001b[38;5;124mkinetic\u001b[39m\u001b[38;5;124m'\u001b[39m][\u001b[38;5;124m'\u001b[39m\u001b[38;5;124mcomponents_names\u001b[39m\u001b[38;5;124m'\u001b[39m]\n\u001b[1;32m     95\u001b[0m kinetic_growth \u001b[38;5;241m=\u001b[39m np\u001b[38;5;241m.\u001b[39marray([dfba_data[\u001b[38;5;124m'\u001b[39m\u001b[38;5;124mkinetic\u001b[39m\u001b[38;5;124m'\u001b[39m][\u001b[38;5;124m'\u001b[39m\u001b[38;5;124mVm_growth\u001b[39m\u001b[38;5;124m'\u001b[39m], dfba_data[\u001b[38;5;124m'\u001b[39m\u001b[38;5;124mkinetic\u001b[39m\u001b[38;5;124m'\u001b[39m][\u001b[38;5;124m'\u001b[39m\u001b[38;5;124mKm\u001b[39m\u001b[38;5;124m'\u001b[39m]])\n",
      "\u001b[0;31mValueError\u001b[0m: 'other_amino_acids' is not in list"
     ]
    }
   ],
   "source": [
    "\n",
    "# Call cosmic_dfba with all necessary arguments\n",
    "simulation_result = COSMIC_dFBA.cosmic_dfba(model, time_range, dFBA_data, fix_flx, fix_comp, notes)\n"
   ]
  }
 ],
 "metadata": {
  "kernelspec": {
   "display_name": "Python 3",
   "language": "python",
   "name": "python3"
  },
  "language_info": {
   "codemirror_mode": {
    "name": "ipython",
    "version": 3
   },
   "file_extension": ".py",
   "mimetype": "text/x-python",
   "name": "python",
   "nbconvert_exporter": "python",
   "pygments_lexer": "ipython3",
   "version": "3.12.1"
  }
 },
 "nbformat": 4,
 "nbformat_minor": 2
}
